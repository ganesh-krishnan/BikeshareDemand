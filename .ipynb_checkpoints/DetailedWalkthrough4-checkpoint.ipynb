{
 "cells": [
  {
   "cell_type": "markdown",
   "metadata": {},
   "source": [
    "## Autocorrelative Models"
   ]
  },
  {
   "cell_type": "markdown",
   "metadata": {},
   "source": [
    "#### Even after extensive hyperparameter optimization, I was only able to get to 97th on the leaderboard. At this point, I decided that it was time to try something else. In general, I group model improvement techniques in the following buckets:\n",
    "\n",
    "1. Feature Engineering\n",
    "2. Model Ensembling\n",
    "3. Parameter Tuning\n",
    "\n",
    "Having already squeezed out the maximum performance from a single XGBoost model, the only way to further improve the model was via feature engineering and model ensembling. \n",
    "\n",
    "My initial forays into model ensembling weren't particularly successful. None of the other models reduced the error by much when combined with the XGBoost model. I decided that I needed new features to really vault me up the leaderboard"
   ]
  },
  {
   "cell_type": "markdown",
   "metadata": {},
   "source": [
    "#### After giving it some thought, I settled on building an autocorrelative model. My rationale was that the demand at a given hour should be highly correlated to the demand in the hours just preceding. I decided to use previous hours as predictors for subsequent hours. This would be in addition to the other predictors like temperature, humidity etc. \n",
    "\n",
    "Normal scheme: Temp + Humidity + W\n",
    "\n",
    "While conceptually simple, this idea poses a few implementation challenges:\n",
    "\n",
    "1. Dealing with missing values: Certain hours are missing in the train/test dataset. This makes predictions challenging for subsequent hours which depend on the predictor for that hour. My solution was to impute these predictions using the median prediction for that hour\n",
    "\n",
    "2. Keeping track of past predictions: Usually, during the prediction process each test case can be presented in any order. Since we are trying to use past predictions as predictors for future predictions, we have to predict in temporal order. Failure to do so will result in missing values for a given test case. This is bec"
   ]
  }
 ],
 "metadata": {
  "kernelspec": {
   "display_name": "R",
   "language": "R",
   "name": "ir"
  },
  "language_info": {
   "codemirror_mode": "r",
   "file_extension": ".r",
   "mimetype": "text/x-r-source",
   "name": "R",
   "pygments_lexer": "r",
   "version": "3.2.4"
  }
 },
 "nbformat": 4,
 "nbformat_minor": 0
}
