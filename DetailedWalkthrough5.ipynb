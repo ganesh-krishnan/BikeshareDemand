{
 "cells": [
  {
   "cell_type": "markdown",
   "metadata": {},
   "source": [
    "## Ensembled Models"
   ]
  },
  {
   "cell_type": "markdown",
   "metadata": {},
   "source": [
    "#### At this point, I had two separate models with pretty good performance:\n",
    "1. XGBoost without previous predictions\n",
    "2. XGBoost with previous predictions\n",
    "\n",
    "I investigated the correlation between the two models and it seemed like there could be some improvement by ensembling. \n",
    "\n",
    "I performed a straight average of the two predictions to obtain the final prediction."
   ]
  },
  {
   "cell_type": "markdown",
   "metadata": {},
   "source": [
    "#### This resulted in a 20th place finish!\n",
    "\n",
    "![20th Place](images/xgb-ensemble.png)"
   ]
  }
 ],
 "metadata": {
  "kernelspec": {
   "display_name": "R",
   "language": "R",
   "name": "ir"
  },
  "language_info": {
   "codemirror_mode": "r",
   "file_extension": ".r",
   "mimetype": "text/x-r-source",
   "name": "R",
   "pygments_lexer": "r",
   "version": "3.2.4"
  }
 },
 "nbformat": 4,
 "nbformat_minor": 0
}
