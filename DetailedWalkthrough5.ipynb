{
 "cells": [
  {
   "cell_type": "markdown",
   "metadata": {},
   "source": [
    "## Ensembled Models"
   ]
  },
  {
   "cell_type": "markdown",
   "metadata": {},
   "source": [
    "#### At this point, I had two separate models with pretty good performance:\n",
    "1. XGBoost without previous predictions\n",
    "2. XGBoost with previous predictions\n",
    "\n",
    "I investigated the correlation between the two models and it seemed like there could be some improvement by ensembling. I tried a variety of techniques including stacking and blending. You'll find a lot of this code in [ensemble.R](ensemble.R)\n",
    "\n",
    "But a straight average of the predictions worked pretty well."
   ]
  },
  {
   "cell_type": "markdown",
   "metadata": {},
   "source": [
    "#### This resulted in a 20th place finish!\n",
    "\n",
    "![20th Place](images/xgb-ensemble.png)"
   ]
  }
 ],
 "metadata": {
  "kernelspec": {
   "display_name": "R",
   "language": "R",
   "name": "ir"
  },
  "language_info": {
   "codemirror_mode": "r",
   "file_extension": ".r",
   "mimetype": "text/x-r-source",
   "name": "R",
   "pygments_lexer": "r",
   "version": "3.2.4"
  }
 },
 "nbformat": 4,
 "nbformat_minor": 0
}
